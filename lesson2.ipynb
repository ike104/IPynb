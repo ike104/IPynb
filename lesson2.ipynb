{
 "metadata": {
  "name": "",
  "signature": "sha256:8ccd65308d4262698d3800ada42b4f362efb6c2fdab3f0b08bc68acbb5804fb7"
 },
 "nbformat": 3,
 "nbformat_minor": 0,
 "worksheets": [
  {
   "cells": [
    {
     "cell_type": "heading",
     "level": 1,
     "metadata": {},
     "source": [
      "Lesson2"
     ]
    },
    {
     "cell_type": "code",
     "collapsed": false,
     "input": [
      "import pandas as pd\n",
      "from numpy import random\n",
      "import matplotlib.pyplot as plt\n",
      "import sys\n",
      "%matplotlib inline"
     ],
     "language": "python",
     "metadata": {},
     "outputs": [],
     "prompt_number": 1
    },
    {
     "cell_type": "heading",
     "level": 2,
     "metadata": {},
     "source": [
      "Create Data"
     ]
    },
    {
     "cell_type": "code",
     "collapsed": false,
     "input": [
      "names = ['Bob','Jessica','Mary','John','Mel']"
     ],
     "language": "python",
     "metadata": {},
     "outputs": [],
     "prompt_number": 2
    },
    {
     "cell_type": "code",
     "collapsed": false,
     "input": [
      "random.seed(500)\n",
      "random_names = [names[random.randint(low=0,high=len(names))] for i in range(1000)]\n",
      "\n",
      "random_names[:10]"
     ],
     "language": "python",
     "metadata": {},
     "outputs": [
      {
       "metadata": {},
       "output_type": "pyout",
       "prompt_number": 3,
       "text": [
        "['Mary',\n",
        " 'Jessica',\n",
        " 'Jessica',\n",
        " 'Bob',\n",
        " 'Jessica',\n",
        " 'Jessica',\n",
        " 'Jessica',\n",
        " 'Mary',\n",
        " 'Mary',\n",
        " 'Mary']"
       ]
      }
     ],
     "prompt_number": 3
    },
    {
     "cell_type": "code",
     "collapsed": false,
     "input": [],
     "language": "python",
     "metadata": {},
     "outputs": []
    },
    {
     "cell_type": "markdown",
     "metadata": {},
     "source": [
      "\u30e9\u30f3\u30c0\u30e0\u30c7\u30fc\u30bf\u3092\u4f5c\u6210"
     ]
    },
    {
     "cell_type": "code",
     "collapsed": false,
     "input": [
      "births = [random.randint(low=0,high=1000) for i in range(1000)]\n",
      "births[:10]"
     ],
     "language": "python",
     "metadata": {},
     "outputs": [
      {
       "metadata": {},
       "output_type": "pyout",
       "prompt_number": 4,
       "text": [
        "[968, 155, 77, 578, 973, 124, 155, 403, 199, 191]"
       ]
      }
     ],
     "prompt_number": 4
    },
    {
     "cell_type": "code",
     "collapsed": false,
     "input": [
      "BabyDataSet = zip(random_names,births)\n",
      "BabyDataSet[:10]"
     ],
     "language": "python",
     "metadata": {},
     "outputs": [
      {
       "metadata": {},
       "output_type": "pyout",
       "prompt_number": 6,
       "text": [
        "[('Mary', 968),\n",
        " ('Jessica', 155),\n",
        " ('Jessica', 77),\n",
        " ('Bob', 578),\n",
        " ('Jessica', 973),\n",
        " ('Jessica', 124),\n",
        " ('Jessica', 155),\n",
        " ('Mary', 403),\n",
        " ('Mary', 199),\n",
        " ('Mary', 191)]"
       ]
      }
     ],
     "prompt_number": 6
    },
    {
     "cell_type": "code",
     "collapsed": false,
     "input": [
      "df = pd.DataFrame(data = BabyDataSet,columns=['Names','Births'])\n",
      "df[:10]"
     ],
     "language": "python",
     "metadata": {},
     "outputs": [
      {
       "html": [
        "<div style=\"max-height:1000px;max-width:1500px;overflow:auto;\">\n",
        "<table border=\"1\" class=\"dataframe\">\n",
        "  <thead>\n",
        "    <tr style=\"text-align: right;\">\n",
        "      <th></th>\n",
        "      <th>Names</th>\n",
        "      <th>Births</th>\n",
        "    </tr>\n",
        "  </thead>\n",
        "  <tbody>\n",
        "    <tr>\n",
        "      <th>0</th>\n",
        "      <td>    Mary</td>\n",
        "      <td> 968</td>\n",
        "    </tr>\n",
        "    <tr>\n",
        "      <th>1</th>\n",
        "      <td> Jessica</td>\n",
        "      <td> 155</td>\n",
        "    </tr>\n",
        "    <tr>\n",
        "      <th>2</th>\n",
        "      <td> Jessica</td>\n",
        "      <td>  77</td>\n",
        "    </tr>\n",
        "    <tr>\n",
        "      <th>3</th>\n",
        "      <td>     Bob</td>\n",
        "      <td> 578</td>\n",
        "    </tr>\n",
        "    <tr>\n",
        "      <th>4</th>\n",
        "      <td> Jessica</td>\n",
        "      <td> 973</td>\n",
        "    </tr>\n",
        "    <tr>\n",
        "      <th>5</th>\n",
        "      <td> Jessica</td>\n",
        "      <td> 124</td>\n",
        "    </tr>\n",
        "    <tr>\n",
        "      <th>6</th>\n",
        "      <td> Jessica</td>\n",
        "      <td> 155</td>\n",
        "    </tr>\n",
        "    <tr>\n",
        "      <th>7</th>\n",
        "      <td>    Mary</td>\n",
        "      <td> 403</td>\n",
        "    </tr>\n",
        "    <tr>\n",
        "      <th>8</th>\n",
        "      <td>    Mary</td>\n",
        "      <td> 199</td>\n",
        "    </tr>\n",
        "    <tr>\n",
        "      <th>9</th>\n",
        "      <td>    Mary</td>\n",
        "      <td> 191</td>\n",
        "    </tr>\n",
        "  </tbody>\n",
        "</table>\n",
        "</div>"
       ],
       "metadata": {},
       "output_type": "pyout",
       "prompt_number": 7,
       "text": [
        "     Names  Births\n",
        "0     Mary     968\n",
        "1  Jessica     155\n",
        "2  Jessica      77\n",
        "3      Bob     578\n",
        "4  Jessica     973\n",
        "5  Jessica     124\n",
        "6  Jessica     155\n",
        "7     Mary     403\n",
        "8     Mary     199\n",
        "9     Mary     191"
       ]
      }
     ],
     "prompt_number": 7
    },
    {
     "cell_type": "raw",
     "metadata": {},
     "source": [
      "CSV\u306b\u66f8\u304d\u51fa\u3057\u3000"
     ]
    },
    {
     "cell_type": "code",
     "collapsed": false,
     "input": [
      "df.to_csv('births1880.txt',index=False,header=False)"
     ],
     "language": "python",
     "metadata": {},
     "outputs": [],
     "prompt_number": 9
    },
    {
     "cell_type": "code",
     "collapsed": false,
     "input": [],
     "language": "python",
     "metadata": {},
     "outputs": []
    },
    {
     "cell_type": "heading",
     "level": 1,
     "metadata": {},
     "source": [
      "GetData"
     ]
    },
    {
     "cell_type": "markdown",
     "metadata": {},
     "source": [
      "CSV\u304b\u3089\u8aad\u307f\u8fbc\u3093\u3067\u307f\u308b"
     ]
    },
    {
     "cell_type": "code",
     "collapsed": false,
     "input": [
      "Location = 'births1880.txt'\n",
      "df = pd.read_csv(Location)"
     ],
     "language": "python",
     "metadata": {},
     "outputs": [],
     "prompt_number": 10
    },
    {
     "cell_type": "code",
     "collapsed": false,
     "input": [
      "df.info()"
     ],
     "language": "python",
     "metadata": {},
     "outputs": [
      {
       "output_type": "stream",
       "stream": "stdout",
       "text": [
        "<class 'pandas.core.frame.DataFrame'>\n",
        "Int64Index: 999 entries, 0 to 998\n",
        "Data columns (total 2 columns):\n",
        "Mary    999 non-null object\n",
        "968     999 non-null int64\n",
        "dtypes: int64(1), object(1)\n",
        "memory usage: 19.5+ KB\n"
       ]
      }
     ],
     "prompt_number": 11
    },
    {
     "cell_type": "code",
     "collapsed": false,
     "input": [
      "df.head()"
     ],
     "language": "python",
     "metadata": {},
     "outputs": [
      {
       "html": [
        "<div style=\"max-height:1000px;max-width:1500px;overflow:auto;\">\n",
        "<table border=\"1\" class=\"dataframe\">\n",
        "  <thead>\n",
        "    <tr style=\"text-align: right;\">\n",
        "      <th></th>\n",
        "      <th>Mary</th>\n",
        "      <th>968</th>\n",
        "    </tr>\n",
        "  </thead>\n",
        "  <tbody>\n",
        "    <tr>\n",
        "      <th>0</th>\n",
        "      <td> Jessica</td>\n",
        "      <td> 155</td>\n",
        "    </tr>\n",
        "    <tr>\n",
        "      <th>1</th>\n",
        "      <td> Jessica</td>\n",
        "      <td>  77</td>\n",
        "    </tr>\n",
        "    <tr>\n",
        "      <th>2</th>\n",
        "      <td>     Bob</td>\n",
        "      <td> 578</td>\n",
        "    </tr>\n",
        "    <tr>\n",
        "      <th>3</th>\n",
        "      <td> Jessica</td>\n",
        "      <td> 973</td>\n",
        "    </tr>\n",
        "    <tr>\n",
        "      <th>4</th>\n",
        "      <td> Jessica</td>\n",
        "      <td> 124</td>\n",
        "    </tr>\n",
        "  </tbody>\n",
        "</table>\n",
        "</div>"
       ],
       "metadata": {},
       "output_type": "pyout",
       "prompt_number": 12,
       "text": [
        "      Mary  968\n",
        "0  Jessica  155\n",
        "1  Jessica   77\n",
        "2      Bob  578\n",
        "3  Jessica  973\n",
        "4  Jessica  124"
       ]
      }
     ],
     "prompt_number": 12
    },
    {
     "cell_type": "code",
     "collapsed": false,
     "input": [
      "df = pd.read_csv(Location,header=None)\n",
      "df.info()"
     ],
     "language": "python",
     "metadata": {},
     "outputs": [
      {
       "output_type": "stream",
       "stream": "stdout",
       "text": [
        "<class 'pandas.core.frame.DataFrame'>\n",
        "Int64Index: 1000 entries, 0 to 999\n",
        "Data columns (total 2 columns):\n",
        "0    1000 non-null object\n",
        "1    1000 non-null int64\n",
        "dtypes: int64(1), object(1)\n",
        "memory usage: 19.5+ KB\n"
       ]
      }
     ],
     "prompt_number": 13
    },
    {
     "cell_type": "code",
     "collapsed": false,
     "input": [
      "df.tail()"
     ],
     "language": "python",
     "metadata": {},
     "outputs": [
      {
       "html": [
        "<div style=\"max-height:1000px;max-width:1500px;overflow:auto;\">\n",
        "<table border=\"1\" class=\"dataframe\">\n",
        "  <thead>\n",
        "    <tr style=\"text-align: right;\">\n",
        "      <th></th>\n",
        "      <th>0</th>\n",
        "      <th>1</th>\n",
        "    </tr>\n",
        "  </thead>\n",
        "  <tbody>\n",
        "    <tr>\n",
        "      <th>995</th>\n",
        "      <td>    John</td>\n",
        "      <td> 151</td>\n",
        "    </tr>\n",
        "    <tr>\n",
        "      <th>996</th>\n",
        "      <td> Jessica</td>\n",
        "      <td> 511</td>\n",
        "    </tr>\n",
        "    <tr>\n",
        "      <th>997</th>\n",
        "      <td>    John</td>\n",
        "      <td> 756</td>\n",
        "    </tr>\n",
        "    <tr>\n",
        "      <th>998</th>\n",
        "      <td> Jessica</td>\n",
        "      <td> 294</td>\n",
        "    </tr>\n",
        "    <tr>\n",
        "      <th>999</th>\n",
        "      <td>    John</td>\n",
        "      <td> 152</td>\n",
        "    </tr>\n",
        "  </tbody>\n",
        "</table>\n",
        "</div>"
       ],
       "metadata": {},
       "output_type": "pyout",
       "prompt_number": 14,
       "text": [
        "           0    1\n",
        "995     John  151\n",
        "996  Jessica  511\n",
        "997     John  756\n",
        "998  Jessica  294\n",
        "999     John  152"
       ]
      }
     ],
     "prompt_number": 14
    },
    {
     "cell_type": "code",
     "collapsed": false,
     "input": [],
     "language": "python",
     "metadata": {},
     "outputs": []
    }
   ],
   "metadata": {}
  }
 ]
}