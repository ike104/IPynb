{
 "metadata": {
  "name": "",
  "signature": "sha256:72d47418cd43b3a0c4df377527ada8fc003d4e12025f3ad47898e3f1744acb46"
 },
 "nbformat": 3,
 "nbformat_minor": 0,
 "worksheets": []
}