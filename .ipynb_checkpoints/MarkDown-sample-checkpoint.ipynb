{
 "metadata": {
  "name": "",
  "signature": "sha256:8b00669d5a27165d63ea29403e2ed9dc0452dddd6d5a41e5b513a1682aeb158c"
 },
 "nbformat": 3,
 "nbformat_minor": 0,
 "worksheets": [
  {
   "cells": [
    {
     "cell_type": "heading",
     "level": 1,
     "metadata": {},
     "source": [
      "Markdown\u3092\u305f\u3081\u3057\u3066\u307f\u308b"
     ]
    },
    {
     "cell_type": "code",
     "collapsed": false,
     "input": [
      "x = range(0,10,1)\n",
      "y = [a*a for a in x]\n",
      "\n",
      "import markdown\n",
      "from IPython.core.display import HTML\n",
      "text  =\"No. | x value | y value \\n\"\n",
      "text +=\"-|-|-\\n\"\n",
      "for i in range(1,len(x),1):\n",
      "    text += str(i) + \"|\" + str(x[i-1]) + \"|\" +str(y[i-1])+\"\\n\"\n",
      "html = markdown.markdown(text,['tables'])\n",
      "HTML(html)\n",
      "    "
     ],
     "language": "python",
     "metadata": {},
     "outputs": [
      {
       "html": [
        "<table>\n",
        "<thead>\n",
        "<tr>\n",
        "<th>No.</th>\n",
        "<th>x value</th>\n",
        "<th>y value</th>\n",
        "</tr>\n",
        "</thead>\n",
        "<tbody>\n",
        "<tr>\n",
        "<td>1</td>\n",
        "<td>0</td>\n",
        "<td>02</td>\n",
        "</tr>\n",
        "</tbody>\n",
        "</table>"
       ],
       "metadata": {},
       "output_type": "pyout",
       "prompt_number": 30,
       "text": [
        "<IPython.core.display.HTML at 0x4f4c690>"
       ]
      }
     ],
     "prompt_number": 30
    },
    {
     "cell_type": "code",
     "collapsed": false,
     "input": [
      "y = [a*a for a in x]"
     ],
     "language": "python",
     "metadata": {},
     "outputs": [],
     "prompt_number": 23
    },
    {
     "cell_type": "code",
     "collapsed": false,
     "input": [
      "x[1]"
     ],
     "language": "python",
     "metadata": {},
     "outputs": [
      {
       "metadata": {},
       "output_type": "pyout",
       "prompt_number": 27,
       "text": [
        "1"
       ]
      }
     ],
     "prompt_number": 27
    }
   ],
   "metadata": {}
  }
 ]
}