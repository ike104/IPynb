{
 "metadata": {
  "name": "",
  "signature": "sha256:c382cfb3362a8332f155e63a49bb10c31a46e0f7ed30d71f20c732d88411cab0"
 },
 "nbformat": 3,
 "nbformat_minor": 0,
 "worksheets": [
  {
   "cells": [
    {
     "cell_type": "heading",
     "level": 1,
     "metadata": {},
     "source": [
      "Markdown\u3092\u305f\u3081\u3057\u3066\u307f\u308b"
     ]
    },
    {
     "cell_type": "code",
     "collapsed": false,
     "input": [
      "x = range(0,10,1)\n",
      "y = [a*a for a in x]\n",
      "\n",
      "import markdown\n",
      "from IPython.core.display import HTML\n",
      "text  =\"No. | x value | y value \\n\"\n",
      "text +=\"-|-|-\\n\"\n",
      "for i in range(1,len(x),1):\n",
      "    text += str(i) + \"|\" + str(x[i-1]) + \"|\" +str(y[i-1])+\"\\n\"\n",
      "html = markdown.markdown(text,['tables'])\n",
      "HTML(html)\n",
      "    "
     ],
     "language": "python",
     "metadata": {},
     "outputs": [
      {
       "html": [
        "<table>\n",
        "<thead>\n",
        "<tr>\n",
        "<th>No.</th>\n",
        "<th>x value</th>\n",
        "<th>y value</th>\n",
        "</tr>\n",
        "</thead>\n",
        "<tbody>\n",
        "<tr>\n",
        "<td>1</td>\n",
        "<td>0</td>\n",
        "<td>0</td>\n",
        "</tr>\n",
        "<tr>\n",
        "<td>2</td>\n",
        "<td>1</td>\n",
        "<td>1</td>\n",
        "</tr>\n",
        "<tr>\n",
        "<td>3</td>\n",
        "<td>2</td>\n",
        "<td>4</td>\n",
        "</tr>\n",
        "<tr>\n",
        "<td>4</td>\n",
        "<td>3</td>\n",
        "<td>9</td>\n",
        "</tr>\n",
        "<tr>\n",
        "<td>5</td>\n",
        "<td>4</td>\n",
        "<td>16</td>\n",
        "</tr>\n",
        "<tr>\n",
        "<td>6</td>\n",
        "<td>5</td>\n",
        "<td>25</td>\n",
        "</tr>\n",
        "<tr>\n",
        "<td>7</td>\n",
        "<td>6</td>\n",
        "<td>36</td>\n",
        "</tr>\n",
        "<tr>\n",
        "<td>8</td>\n",
        "<td>7</td>\n",
        "<td>49</td>\n",
        "</tr>\n",
        "<tr>\n",
        "<td>9</td>\n",
        "<td>8</td>\n",
        "<td>64</td>\n",
        "</tr>\n",
        "</tbody>\n",
        "</table>"
       ],
       "metadata": {},
       "output_type": "pyout",
       "prompt_number": 31,
       "text": [
        "<IPython.core.display.HTML at 0x55277d0>"
       ]
      }
     ],
     "prompt_number": 31
    },
    {
     "cell_type": "code",
     "collapsed": false,
     "input": [],
     "language": "python",
     "metadata": {},
     "outputs": [],
     "prompt_number": 23
    },
    {
     "cell_type": "code",
     "collapsed": false,
     "input": [],
     "language": "python",
     "metadata": {},
     "outputs": [],
     "prompt_number": 31
    }
   ],
   "metadata": {}
  }
 ]
}